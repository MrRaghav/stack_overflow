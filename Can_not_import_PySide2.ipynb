{
  "nbformat": 4,
  "nbformat_minor": 0,
  "metadata": {
    "colab": {
      "name": "Can-not-import-PySide2.ipynb",
      "provenance": [],
      "collapsed_sections": []
    },
    "kernelspec": {
      "name": "python3",
      "display_name": "Python 3"
    }
  },
  "cells": [
    {
      "cell_type": "code",
      "metadata": {
        "id": "liEzEKY8BhZh",
        "colab_type": "code",
        "colab": {
          "base_uri": "https://localhost:8080/",
          "height": 73
        },
        "outputId": "726853d4-1f42-4c98-d23f-2cccc7c6fcf3"
      },
      "source": [
        "from platform import python_version\n",
        "print(python_version())\n",
        "\n",
        "# Check version inside your Python program\n",
        "import sys\n",
        "print(sys.version)"
      ],
      "execution_count": 8,
      "outputs": [
        {
          "output_type": "stream",
          "text": [
            "3.6.9\n",
            "3.6.9 (default, Apr 18 2020, 01:56:04) \n",
            "[GCC 8.4.0]\n"
          ],
          "name": "stdout"
        }
      ]
    },
    {
      "cell_type": "markdown",
      "metadata": {
        "id": "psEAu4PXcqc3",
        "colab_type": "text"
      },
      "source": [
        "https://stackoverflow.com/questions/62929010/cant-import-pyside2/62929274#62929274"
      ]
    },
    {
      "cell_type": "code",
      "metadata": {
        "id": "YDR3EQkraC5Y",
        "colab_type": "code",
        "colab": {
          "base_uri": "https://localhost:8080/",
          "height": 186
        },
        "outputId": "0b62ad86-ca79-4b3c-d911-d06698319184"
      },
      "source": [
        "pip install PySide2"
      ],
      "execution_count": null,
      "outputs": [
        {
          "output_type": "stream",
          "text": [
            "Collecting PySide2\n",
            "\u001b[?25l  Downloading https://files.pythonhosted.org/packages/24/39/348e72c1607ac12915e1809e9092e09aa239bc48ace41d51253179e635bb/PySide2-5.15.0-5.15.0-cp35.cp36.cp37.cp38-abi3-manylinux1_x86_64.whl (170.8MB)\n",
            "\u001b[K     |████████████████████████████████| 170.8MB 25kB/s \n",
            "\u001b[?25hCollecting shiboken2==5.15.0\n",
            "\u001b[?25l  Downloading https://files.pythonhosted.org/packages/34/09/89ea79363e71233ee39f08c497efd8b34b1dd1e26f1905f18555b3cb1b1a/shiboken2-5.15.0-5.15.0-cp35.cp36.cp37.cp38-abi3-manylinux1_x86_64.whl (856kB)\n",
            "\u001b[K     |████████████████████████████████| 860kB 40.9MB/s \n",
            "\u001b[?25hInstalling collected packages: shiboken2, PySide2\n",
            "Successfully installed PySide2-5.15.0 shiboken2-5.15.0\n"
          ],
          "name": "stdout"
        }
      ]
    },
    {
      "cell_type": "code",
      "metadata": {
        "id": "jcf7vfrdGyQa",
        "colab_type": "code",
        "colab": {}
      },
      "source": [
        "import PySide2.QtCore"
      ],
      "execution_count": null,
      "outputs": []
    },
    {
      "cell_type": "code",
      "metadata": {
        "id": "IEiRLlf0GyON",
        "colab_type": "code",
        "colab": {
          "base_uri": "https://localhost:8080/",
          "height": 36
        },
        "outputId": "2be157bd-57cf-4038-8d43-06e8e7e84f87"
      },
      "source": [
        "print(PySide2.__version__)"
      ],
      "execution_count": null,
      "outputs": [
        {
          "output_type": "stream",
          "text": [
            "5.15.0\n"
          ],
          "name": "stdout"
        }
      ]
    }
  ]
}