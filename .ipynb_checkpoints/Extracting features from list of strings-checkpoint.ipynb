{
 "cells": [
  {
   "cell_type": "markdown",
   "metadata": {},
   "source": [
    "question: \n",
    "    \n",
    "    https://stackoverflow.com/questions/62418623/extracting-features-from-list-of-strings"
   ]
  },
  {
   "cell_type": "markdown",
   "metadata": {},
   "source": [
    "reference:\n",
    "    \n",
    "https://stackoverflow.com/questions/62418623/extracting-features-from-list-of-strings"
   ]
  },
  {
   "cell_type": "code",
   "execution_count": 15,
   "metadata": {},
   "outputs": [
    {
     "name": "stdout",
     "output_type": "stream",
     "text": [
      "Cosine: 0.8616404368553293\n"
     ]
    }
   ],
   "source": [
    "import math\n",
    "import re\n",
    "from collections import Counter\n",
    "\n",
    "WORD = re.compile(r\"\\w+\")\n",
    "\n",
    "\n",
    "def get_cosine(vec1, vec2):\n",
    "    intersection = set(vec1.keys()) & set(vec2.keys())\n",
    "    numerator = sum([vec1[x] * vec2[x] for x in intersection])\n",
    "\n",
    "    sum1 = sum([vec1[x] ** 2 for x in list(vec1.keys())])\n",
    "    sum2 = sum([vec2[x] ** 2 for x in list(vec2.keys())])\n",
    "    denominator = math.sqrt(sum1) * math.sqrt(sum2)\n",
    "\n",
    "    if not denominator:\n",
    "        return 0.0\n",
    "    else:\n",
    "        return float(numerator) / denominator\n",
    "\n",
    "\n",
    "def text_to_vector(text):\n",
    "    words = WORD.findall(text)\n",
    "    return Counter(words)\n",
    "\n",
    "\n",
    "text1 = \"This is a foo bar sentence .\"\n",
    "text2 = \"This sentence is similar to a foo bar sentence .\"\n",
    "\n",
    "vector1 = text_to_vector(text1)\n",
    "vector2 = text_to_vector(text2)\n",
    "\n",
    "cosine = get_cosine(vector1, vector2)\n",
    "\n",
    "print(\"Cosine:\", cosine)"
   ]
  },
  {
   "cell_type": "code",
   "execution_count": 1,
   "metadata": {},
   "outputs": [],
   "source": [
    "mylist = [\"the yam is sweet\", \"what is the best time to come\", \"who ate my food\", \"no empty food on the table\", \"what can I do to make you happy\"]  # about 20k data\n",
    "myString1 = \"Is yam a food\"  # String can be longer than this\n",
    "myString2 = \"should I give you a food\"\n",
    "myString3 = \"I am not happy\""
   ]
  },
  {
   "cell_type": "code",
   "execution_count": 41,
   "metadata": {},
   "outputs": [],
   "source": [
    "vector1 = text_to_vector(myString1)\n",
    "vector2 = text_to_vector(myString2)\n",
    "vector3 = text_to_vector(myString3)\n",
    "similar_string1 = []\n",
    "similar_string2 = []\n",
    "similar_string3 = []"
   ]
  },
  {
   "cell_type": "code",
   "execution_count": 42,
   "metadata": {},
   "outputs": [
    {
     "name": "stdout",
     "output_type": "stream",
     "text": [
      "Counter({'Is': 1, 'yam': 1, 'a': 1, 'food': 1})\n"
     ]
    }
   ],
   "source": [
    "print(vector1)"
   ]
  },
  {
   "cell_type": "code",
   "execution_count": 43,
   "metadata": {},
   "outputs": [
    {
     "name": "stdout",
     "output_type": "stream",
     "text": [
      "[0.25, 0.0, 0.25, 0.20412414523193154, 0.0]\n",
      "[0.0, 0.0, 0.20412414523193154, 0.16666666666666669, 0.2886751345948129]\n",
      "[0.0, 0.0, 0.0, 0.0, 0.35355339059327373]\n"
     ]
    }
   ],
   "source": [
    "for ele in mylist:  \n",
    "    vector = text_to_vector(ele)\n",
    "    #print(ele)\n",
    "    #print(vector)\n",
    "    cosine = get_cosine(vector1, vector)\n",
    "    similar_string1.append(cosine)\n",
    "    cosine = get_cosine(vector2, vector)\n",
    "    similar_string2.append(cosine)\n",
    "    cosine = get_cosine(vector3, vector)\n",
    "    similar_string3.append(cosine)\n",
    "    \n",
    "    \n",
    "            \n",
    "print(similar_string1)\n",
    "print(similar_string2)\n",
    "print(similar_string3)\n",
    "    "
   ]
  },
  {
   "cell_type": "code",
   "execution_count": null,
   "metadata": {},
   "outputs": [],
   "source": [
    "0.25\n",
    "0.0\n",
    "0.0\n",
    "0.0\n",
    "0.0\n",
    "0.0\n",
    "0.25\n",
    "0.20412414523193154\n",
    "0.0\n",
    "0.20412414523193154\n",
    "0.16666666666666669\n",
    "0.0\n",
    "0.0\n",
    "0.2886751345948129\n",
    "0.35355339059327373"
   ]
  }
 ],
 "metadata": {
  "kernelspec": {
   "display_name": "Python 3",
   "language": "python",
   "name": "python3"
  },
  "language_info": {
   "codemirror_mode": {
    "name": "ipython",
    "version": 3
   },
   "file_extension": ".py",
   "mimetype": "text/x-python",
   "name": "python",
   "nbconvert_exporter": "python",
   "pygments_lexer": "ipython3",
   "version": "3.6.9"
  }
 },
 "nbformat": 4,
 "nbformat_minor": 2
}
