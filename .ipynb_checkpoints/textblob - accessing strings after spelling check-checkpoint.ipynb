{
 "cells": [
  {
   "cell_type": "markdown",
   "metadata": {},
   "source": [
    "reference:\n",
    "    \n",
    "https://stackoverflow.com/questions/62112793/how-to-get-the-text-inside-the-textblob-result"
   ]
  },
  {
   "cell_type": "code",
   "execution_count": 12,
   "metadata": {},
   "outputs": [],
   "source": [
    "from textblob import TextBlob"
   ]
  },
  {
   "cell_type": "code",
   "execution_count": 44,
   "metadata": {},
   "outputs": [
    {
     "name": "stdout",
     "output_type": "stream",
     "text": [
      "correct words: \n",
      "[TextBlob(\"Swiss\"), TextBlob(\"Flank\"), TextBlob(\"leave\"), TextBlob(\"down\"), TextBlob(\"come\")]\n",
      "\n",
      "Final strings:\n",
      "Swiss\n",
      "Flank\n",
      "leave\n",
      "down\n",
      "come\n"
     ]
    }
   ],
   "source": [
    "corrected_words = []\n",
    "data_words = ['Swiss', 'Blank', 'leeve', \"doen\", \"coem\"]\n",
    "\n",
    "for i in data_words:\n",
    "    corrected_words.append((TextBlob(i).correct()))\n",
    "\n",
    "        \n",
    "print(\"correct words: \")\n",
    "print(corrected_words)\n",
    "print(\"\")\n",
    "\n",
    "print(\"Final strings:\")\n",
    "for i in corrected_words:\n",
    "    print(i)    "
   ]
  },
  {
   "cell_type": "code",
   "execution_count": 14,
   "metadata": {},
   "outputs": [],
   "source": [
    " b = TextBlob(\"leeve\")"
   ]
  },
  {
   "cell_type": "code",
   "execution_count": 27,
   "metadata": {},
   "outputs": [
    {
     "data": {
      "text/plain": [
       "'\"Swiss\")'"
      ]
     },
     "execution_count": 27,
     "metadata": {},
     "output_type": "execute_result"
    }
   ],
   "source": [
    "s = 'TextBlob(\"Swiss\")'\n",
    "\n",
    "s[s.find('\"'):]"
   ]
  },
  {
   "cell_type": "code",
   "execution_count": 32,
   "metadata": {},
   "outputs": [],
   "source": [
    "sep = '\"'\n",
    "rest = s.split(sep, 2)[1]"
   ]
  },
  {
   "cell_type": "code",
   "execution_count": 33,
   "metadata": {},
   "outputs": [
    {
     "data": {
      "text/plain": [
       "'Swiss'"
      ]
     },
     "execution_count": 33,
     "metadata": {},
     "output_type": "execute_result"
    }
   ],
   "source": [
    "rest"
   ]
  },
  {
   "cell_type": "code",
   "execution_count": null,
   "metadata": {},
   "outputs": [],
   "source": []
  }
 ],
 "metadata": {
  "kernelspec": {
   "display_name": "Python 3",
   "language": "python",
   "name": "python3"
  },
  "language_info": {
   "codemirror_mode": {
    "name": "ipython",
    "version": 3
   },
   "file_extension": ".py",
   "mimetype": "text/x-python",
   "name": "python",
   "nbconvert_exporter": "python",
   "pygments_lexer": "ipython3",
   "version": "3.6.9"
  }
 },
 "nbformat": 4,
 "nbformat_minor": 2
}
